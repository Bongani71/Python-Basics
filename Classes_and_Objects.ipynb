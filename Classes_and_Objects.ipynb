{
  "nbformat": 4,
  "nbformat_minor": 0,
  "metadata": {
    "colab": {
      "provenance": [],
      "authorship_tag": "ABX9TyMc4Xmf1DcPmYrSdyj1ccA7",
      "include_colab_link": true
    },
    "kernelspec": {
      "name": "python3",
      "display_name": "Python 3"
    },
    "language_info": {
      "name": "python"
    }
  },
  "cells": [
    {
      "cell_type": "markdown",
      "metadata": {
        "id": "view-in-github",
        "colab_type": "text"
      },
      "source": [
        "<a href=\"https://colab.research.google.com/github/Bongani71/Python-Basics/blob/main/Classes_and_Objects.ipynb\" target=\"_parent\"><img src=\"https://colab.research.google.com/assets/colab-badge.svg\" alt=\"Open In Colab\"/></a>"
      ]
    },
    {
      "cell_type": "markdown",
      "source": [
        "**Classes**"
      ],
      "metadata": {
        "id": "YFM64Q3Kdr7N"
      }
    },
    {
      "cell_type": "code",
      "source": [
        "class car:\n",
        "  def __init__(self,name,model,color):\n",
        "    self.name= 'Bajaj'\n",
        "    self.model= '720d'\n",
        "    self.color= 'Yellow'\n",
        "\n",
        "    def display(self):\n",
        "      print(self.name,self.model,self.color)\n",
        "\n",
        "    def start(self):\n",
        "      print('Engine Started')\n",
        "\n",
        "    def stop(self):\n",
        "      print('Engine Stopped')"
      ],
      "metadata": {
        "id": "Wt1yQgBwdrkB"
      },
      "execution_count": 5,
      "outputs": []
    },
    {
      "cell_type": "markdown",
      "source": [
        "**Object**"
      ],
      "metadata": {
        "id": "VJ6LiwzViIRD"
      }
    },
    {
      "cell_type": "code",
      "source": [
        "mycar=car('Bajaj','720d','Yellow')\n",
        "mycar.start()\n",
        "mycar.stop()"
      ],
      "metadata": {
        "id": "yqKQQbqNiXmP"
      },
      "execution_count": null,
      "outputs": []
    }
  ]
}