{
  "nbformat": 4,
  "nbformat_minor": 0,
  "metadata": {
    "colab": {
      "provenance": [],
      "authorship_tag": "ABX9TyMkiR6iI9+Gna9JsbZbJ52M",
      "include_colab_link": true
    },
    "kernelspec": {
      "name": "python3",
      "display_name": "Python 3"
    },
    "language_info": {
      "name": "python"
    }
  },
  "cells": [
    {
      "cell_type": "markdown",
      "metadata": {
        "id": "view-in-github",
        "colab_type": "text"
      },
      "source": [
        "<a href=\"https://colab.research.google.com/github/Bongani71/Python-Basics/blob/main/Control_Flow.ipynb\" target=\"_parent\"><img src=\"https://colab.research.google.com/assets/colab-badge.svg\" alt=\"Open In Colab\"/></a>"
      ]
    },
    {
      "cell_type": "markdown",
      "source": [
        "# **Control Flow**"
      ],
      "metadata": {
        "id": "r4MHrmBuJiKy"
      }
    },
    {
      "cell_type": "markdown",
      "source": [
        "**If/Else Statements**"
      ],
      "metadata": {
        "id": "TTidPMAKJ4RU"
      }
    },
    {
      "cell_type": "code",
      "source": [
        "a = 10\n",
        "if a > 5:\n",
        "  print(\"Bigger than 5\")\n",
        "else:\n",
        "  print(\"Not bigger than 5\")"
      ],
      "metadata": {
        "colab": {
          "base_uri": "https://localhost:8080/"
        },
        "id": "8y75h1IIJs_w",
        "outputId": "ad060e24-a036-443d-db37-9a66b23ce7b2"
      },
      "execution_count": 1,
      "outputs": [
        {
          "output_type": "stream",
          "name": "stdout",
          "text": [
            "Bigger than 5\n"
          ]
        }
      ]
    },
    {
      "cell_type": "code",
      "source": [
        "10 == 10\n",
        "if 10 == 10:\n",
        "  print(\"Equal\")"
      ],
      "metadata": {
        "colab": {
          "base_uri": "https://localhost:8080/"
        },
        "id": "iZ_lns-NL5jZ",
        "outputId": "b4726eda-257b-435e-eb35-aa59204176ce"
      },
      "execution_count": 2,
      "outputs": [
        {
          "output_type": "stream",
          "name": "stdout",
          "text": [
            "Equal\n"
          ]
        }
      ]
    },
    {
      "cell_type": "code",
      "source": [
        "10 > 5\n",
        "if 10 > 5:\n",
        "  print(\"Bigger\")"
      ],
      "metadata": {
        "colab": {
          "base_uri": "https://localhost:8080/"
        },
        "id": "ntt33gfYMiXG",
        "outputId": "13db1f32-51cc-4b95-9b78-5416c9241e51"
      },
      "execution_count": 4,
      "outputs": [
        {
          "output_type": "stream",
          "name": "stdout",
          "text": [
            "Bigger\n"
          ]
        }
      ]
    },
    {
      "cell_type": "code",
      "source": [
        "10 < 5\n",
        "if 10 < 5:\n",
        "  print(\"Smaller\")"
      ],
      "metadata": {
        "id": "d0us0QCqMuIB"
      },
      "execution_count": 7,
      "outputs": []
    },
    {
      "cell_type": "markdown",
      "source": [
        "**For Loops**"
      ],
      "metadata": {
        "id": "SjmmsLAHNZnz"
      }
    },
    {
      "cell_type": "code",
      "source": [
        "a = [5, 10, 15, 20]\n",
        "for item in a:\n",
        "  print(item)"
      ],
      "metadata": {
        "colab": {
          "base_uri": "https://localhost:8080/"
        },
        "id": "0bTr3k4HNguS",
        "outputId": "d7951447-32c8-4691-8c74-3d313ce0da41"
      },
      "execution_count": 9,
      "outputs": [
        {
          "output_type": "stream",
          "name": "stdout",
          "text": [
            "5\n",
            "10\n",
            "15\n",
            "20\n"
          ]
        }
      ]
    },
    {
      "cell_type": "code",
      "source": [
        "10 in a"
      ],
      "metadata": {
        "colab": {
          "base_uri": "https://localhost:8080/"
        },
        "id": "OBa43yKuOGq4",
        "outputId": "d89fdea7-eaaf-4ed6-f188-c9038d61b4d0"
      },
      "execution_count": 11,
      "outputs": [
        {
          "output_type": "execute_result",
          "data": {
            "text/plain": [
              "True"
            ]
          },
          "metadata": {},
          "execution_count": 11
        }
      ]
    },
    {
      "cell_type": "code",
      "source": [
        "11 in a"
      ],
      "metadata": {
        "colab": {
          "base_uri": "https://localhost:8080/"
        },
        "id": "jlYsPt6pORM2",
        "outputId": "21eb27e5-8704-49da-edd4-32cd6b2eed45"
      },
      "execution_count": 12,
      "outputs": [
        {
          "output_type": "execute_result",
          "data": {
            "text/plain": [
              "False"
            ]
          },
          "metadata": {},
          "execution_count": 12
        }
      ]
    },
    {
      "cell_type": "markdown",
      "source": [
        "**While Loops**"
      ],
      "metadata": {
        "id": "upPajLGOOuD6"
      }
    },
    {
      "cell_type": "code",
      "source": [
        "a = 0\n",
        "while a < 5:\n",
        "  print(a)\n",
        "  a = a + 1"
      ],
      "metadata": {
        "colab": {
          "base_uri": "https://localhost:8080/"
        },
        "id": "KqbmBctmPGA5",
        "outputId": "67240496-79e2-4a07-b179-3ae53d978ebd"
      },
      "execution_count": 19,
      "outputs": [
        {
          "output_type": "stream",
          "name": "stdout",
          "text": [
            "0\n",
            "1\n",
            "2\n",
            "3\n",
            "4\n"
          ]
        }
      ]
    },
    {
      "cell_type": "code",
      "source": [
        "a = 10\n",
        "while a < 5:\n",
        "  print(a)\n",
        "  a = a + 1"
      ],
      "metadata": {
        "id": "IVm9pgIgQOdZ"
      },
      "execution_count": 21,
      "outputs": []
    },
    {
      "cell_type": "code",
      "source": [
        "a = 10\n",
        "while a > 5:\n",
        "  print(a)\n",
        "  a = a - 1"
      ],
      "metadata": {
        "colab": {
          "base_uri": "https://localhost:8080/"
        },
        "id": "kbVNlNDuQcpC",
        "outputId": "7937c02f-797f-4cc2-e787-7b518a30fa33"
      },
      "execution_count": 23,
      "outputs": [
        {
          "output_type": "stream",
          "name": "stdout",
          "text": [
            "10\n",
            "9\n",
            "8\n",
            "7\n",
            "6\n"
          ]
        }
      ]
    }
  ]
}