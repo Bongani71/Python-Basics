{
  "nbformat": 4,
  "nbformat_minor": 0,
  "metadata": {
    "colab": {
      "provenance": [],
      "authorship_tag": "ABX9TyPSv4WWftEId3foCnSS4g9D",
      "include_colab_link": true
    },
    "kernelspec": {
      "name": "python3",
      "display_name": "Python 3"
    },
    "language_info": {
      "name": "python"
    }
  },
  "cells": [
    {
      "cell_type": "markdown",
      "metadata": {
        "id": "view-in-github",
        "colab_type": "text"
      },
      "source": [
        "<a href=\"https://colab.research.google.com/github/Bongani71/Python-Basics/blob/main/Booleans.ipynb\" target=\"_parent\"><img src=\"https://colab.research.google.com/assets/colab-badge.svg\" alt=\"Open In Colab\"/></a>"
      ]
    },
    {
      "cell_type": "markdown",
      "source": [
        "**Casting Booleans**"
      ],
      "metadata": {
        "id": "_4tO8GRWBdFm"
      }
    },
    {
      "cell_type": "markdown",
      "source": [
        "# **Booleans (True & False) (0 & 1)**"
      ],
      "metadata": {
        "id": "JSM2cwL1BErT"
      }
    },
    {
      "cell_type": "code",
      "execution_count": 1,
      "metadata": {
        "colab": {
          "base_uri": "https://localhost:8080/"
        },
        "id": "aA-J2ln9AKVX",
        "outputId": "17cf40e1-661b-477c-e629-f2a5e74b058c"
      },
      "outputs": [
        {
          "output_type": "execute_result",
          "data": {
            "text/plain": [
              "True"
            ]
          },
          "metadata": {},
          "execution_count": 1
        }
      ],
      "source": [
        "bool(1)"
      ]
    },
    {
      "cell_type": "code",
      "source": [
        "bool(0)"
      ],
      "metadata": {
        "colab": {
          "base_uri": "https://localhost:8080/"
        },
        "id": "8YhnQWp5Bszh",
        "outputId": "76fcbd42-6023-4ddf-a927-eabefdfc9aad"
      },
      "execution_count": 2,
      "outputs": [
        {
          "output_type": "execute_result",
          "data": {
            "text/plain": [
              "False"
            ]
          },
          "metadata": {},
          "execution_count": 2
        }
      ]
    },
    {
      "cell_type": "code",
      "source": [
        "bool('True')"
      ],
      "metadata": {
        "colab": {
          "base_uri": "https://localhost:8080/"
        },
        "id": "hIKZhwAgCJ15",
        "outputId": "d4d71247-f208-4185-e3a2-61efa27ab0f2"
      },
      "execution_count": 3,
      "outputs": [
        {
          "output_type": "execute_result",
          "data": {
            "text/plain": [
              "True"
            ]
          },
          "metadata": {},
          "execution_count": 3
        }
      ]
    },
    {
      "cell_type": "code",
      "source": [
        "bool('False')"
      ],
      "metadata": {
        "colab": {
          "base_uri": "https://localhost:8080/"
        },
        "id": "AHA8H8GaCRsr",
        "outputId": "c0b7b53a-0e3e-468f-e00a-2e2291c87d00"
      },
      "execution_count": 4,
      "outputs": [
        {
          "output_type": "execute_result",
          "data": {
            "text/plain": [
              "True"
            ]
          },
          "metadata": {},
          "execution_count": 4
        }
      ]
    },
    {
      "cell_type": "code",
      "source": [
        "bool('')"
      ],
      "metadata": {
        "colab": {
          "base_uri": "https://localhost:8080/"
        },
        "id": "4GAvO5UOCk1s",
        "outputId": "21dae90f-efea-4148-e729-8b0edd4423d1"
      },
      "execution_count": 5,
      "outputs": [
        {
          "output_type": "execute_result",
          "data": {
            "text/plain": [
              "False"
            ]
          },
          "metadata": {},
          "execution_count": 5
        }
      ]
    },
    {
      "cell_type": "code",
      "source": [
        "bool([])"
      ],
      "metadata": {
        "colab": {
          "base_uri": "https://localhost:8080/"
        },
        "id": "zgx3Z1o8Cp8p",
        "outputId": "61055bc6-3303-429b-cf4b-ac06bd15f38b"
      },
      "execution_count": 6,
      "outputs": [
        {
          "output_type": "execute_result",
          "data": {
            "text/plain": [
              "False"
            ]
          },
          "metadata": {},
          "execution_count": 6
        }
      ]
    },
    {
      "cell_type": "code",
      "source": [
        "bool({})"
      ],
      "metadata": {
        "colab": {
          "base_uri": "https://localhost:8080/"
        },
        "id": "spUEGxP_Cuc3",
        "outputId": "5c686148-43ce-4b57-c11e-46ce950472e3"
      },
      "execution_count": 7,
      "outputs": [
        {
          "output_type": "execute_result",
          "data": {
            "text/plain": [
              "False"
            ]
          },
          "metadata": {},
          "execution_count": 7
        }
      ]
    },
    {
      "cell_type": "markdown",
      "source": [
        "**Boolean Logic**"
      ],
      "metadata": {
        "id": "VVZ5WBeOEDbx"
      }
    },
    {
      "cell_type": "code",
      "source": [
        "a = 1\n",
        "b = 0\n",
        "\n",
        "if not a and b :\n",
        "                print('You have nothing')\n",
        "else:\n",
        "                print('You have something')"
      ],
      "metadata": {
        "colab": {
          "base_uri": "https://localhost:8080/"
        },
        "id": "MHK8e3p4EJ8P",
        "outputId": "fa9e21fb-452b-481f-8691-eb549d396bd7"
      },
      "execution_count": 14,
      "outputs": [
        {
          "output_type": "stream",
          "name": "stdout",
          "text": [
            "You have something\n"
          ]
        }
      ]
    },
    {
      "cell_type": "code",
      "source": [
        "Hot = True\n",
        "Cold = False\n",
        "\n",
        "if Hot :\n",
        "        print('You can go out')\n",
        "else :\n",
        "        print('Stay home')"
      ],
      "metadata": {
        "colab": {
          "base_uri": "https://localhost:8080/"
        },
        "id": "4mOAqikWFrBZ",
        "outputId": "ffc59e99-8d0c-466e-b38e-ccd2d0b7ccef"
      },
      "execution_count": 19,
      "outputs": [
        {
          "output_type": "stream",
          "name": "stdout",
          "text": [
            "You can go out\n"
          ]
        }
      ]
    },
    {
      "cell_type": "code",
      "source": [
        "Hot = True\n",
        "Cold = False\n",
        "\n",
        "if Cold :\n",
        "        print('You can go out')\n",
        "else :\n",
        "        print('Stay home')"
      ],
      "metadata": {
        "colab": {
          "base_uri": "https://localhost:8080/"
        },
        "id": "P2prLAJFGpjI",
        "outputId": "a66dcb7e-046f-4234-e6f0-3cf3c59f9e2e"
      },
      "execution_count": 20,
      "outputs": [
        {
          "output_type": "stream",
          "name": "stdout",
          "text": [
            "Stay home\n"
          ]
        }
      ]
    }
  ]
}